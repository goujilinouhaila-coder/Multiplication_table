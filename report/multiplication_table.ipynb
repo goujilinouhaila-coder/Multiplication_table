{
 "metadata": {
  "language_info": {
   "codemirror_mode": {
    "name": "ipython",
    "version": 3
   },
   "file_extension": ".py",
   "mimetype": "text/x-python",
   "name": "python",
   "nbconvert_exporter": "python",
   "pygments_lexer": "ipython3",
   "version": "3.8.5"
  },
  "orig_nbformat": 2,
  "kernelspec": {
   "name": "python385jvsc74a57bd09cd02cb723a407c5e46a16041266c2d87cf78bb1a418be4d23c6309c7cdf5fae",
   "display_name": "Python 3.8.5 64-bit (conda)"
  }
 },
 "nbformat": 4,
 "nbformat_minor": 2,
 "cells": [
  {
   "cell_type": "code",
   "execution_count": 7,
   "metadata": {},
   "outputs": [
    {
     "output_type": "stream",
     "name": "stdout",
     "text": [
      "sparse_matrix'time0.0\nsparse_matrix'time0.0009949207305908203\n1 <---> 2.0\n2 <---> 4.0\n3 <---> 6.0\n4 <---> 8.0\n5 <---> 0.0\n6 <---> 2.0\n7 <---> 4.0\n8 <---> 6.0\n9 <---> 8.0\n"
     ]
    }
   ],
   "source": [
    "import multiplication_table as mt\n",
    "import time\n",
    "from tkinter import Tk, Canvas\n",
    "\n",
    "table_number1=2\n",
    "modulo_number1 = 10\n",
    "\n",
    "graph_object1 = mt.Graph(table_number1, modulo_number1)\n",
    "graph_object1.sparse_matrix()\n",
    "graph_object1.print_graph()"
   ]
  },
  {
   "cell_type": "code",
   "execution_count": 5,
   "metadata": {},
   "outputs": [
    {
     "output_type": "error",
     "ename": "SyntaxError",
     "evalue": "invalid syntax (<ipython-input-5-d21c16933b63>, line 1)",
     "traceback": [
      "\u001b[1;36m  File \u001b[1;32m\"<ipython-input-5-d21c16933b63>\"\u001b[1;36m, line \u001b[1;32m1\u001b[0m\n\u001b[1;33m    :\u001b[0m\n\u001b[1;37m    ^\u001b[0m\n\u001b[1;31mSyntaxError\u001b[0m\u001b[1;31m:\u001b[0m invalid syntax\n"
     ]
    }
   ],
   "source": [
    " :\n",
    "mt.Interface_gestion(speed=200, state_button=False, background='white',\n",
    "                     state_circle=False,\n",
    "                     color_graph=['purple', \"blue\", \"orange\", \"brown\"],\n",
    "                     background_circle=\"\", outline_circle='black',\n",
    "                     color_name=\"red\", edges_width=1)"
   ]
  },
  {
   "cell_type": "code",
   "execution_count": 9,
   "metadata": {},
   "outputs": [
    {
     "output_type": "stream",
     "name": "stdout",
     "text": [
      "sparse_matrix'time0.0\n",
      "sparse_matrix'time0.0\n",
      "Fixe representation 'time : 1.5903611183166504\n"
     ]
    }
   ],
   "source": [
    "start = time.time()\n",
    "root = Tk()\n",
    "canvas = Canvas(root, width=750, height=750, bg='white')\n",
    "canvas.pack(side=\"left\", fill=\"both\", expand=True)\n",
    "mt.circle(canvas=canvas, center=(360, 360), radius=300,\n",
    "          state_circle=True, background_circle=\"\", outline_circle=\"black\")\n",
    "mt.dot(canvas=canvas, graph=mt.Graph(2, 10), radius=300, center=360,\n",
    "       color_graph=['black', 'purple', \"blue\", \"red\", \"cyan\"],\n",
    "       color_name=\"red\")\n",
    "mt.all_edges(canvas=canvas, graph=mt.Graph(2, 10), radius=300, center=360,\n",
    "             color_graph=['black', 'purple', \"blue\", \"red\", \"cyan\"],\n",
    "             edges_width=2)\n",
    "root.mainloop()\n",
    "end = time.time()\n",
    "print(\"Fixe representation 'time : \" + str(end-start))\n"
   ]
  },
  {
   "cell_type": "code",
   "execution_count": null,
   "metadata": {},
   "outputs": [],
   "source": []
  }
 ]
}