{
 "metadata": {
  "language_info": {
   "codemirror_mode": {
    "name": "ipython",
    "version": 3
   },
   "file_extension": ".py",
   "mimetype": "text/x-python",
   "name": "python",
   "nbconvert_exporter": "python",
   "pygments_lexer": "ipython3",
   "version": "3.8.5"
  },
  "orig_nbformat": 2,
  "kernelspec": {
   "name": "python385jvsc74a57bd0cec024a7a19a881118e23cbee5c80415f2f24c06f554f31b3f34dd24ac1f663b",
   "display_name": "Python 3.8.5 64-bit ('base': conda)"
  }
 },
 "nbformat": 4,
 "nbformat_minor": 2,
 "cells": [
  {
   "cell_type": "code",
   "execution_count": 4,
   "metadata": {},
   "outputs": [
    {
     "output_type": "stream",
     "name": "stdout",
     "text": [
      "sparse_matrix'time0.0\nsparse_matrix'time0.0\n1 <---> 2.0\n2 <---> 4.0\n3 <---> 6.0\n4 <---> 8.0\n5 <---> 0.0\n6 <---> 2.0\n7 <---> 4.0\n8 <---> 6.0\n9 <---> 8.0\n"
     ]
    }
   ],
   "source": [
    "import multiplication_table as mt\n",
    "import time\n",
    "from tkinter import Tk, Canvas\n",
    "\n",
    "table_number1=2\n",
    "modulo_number1 = 10\n",
    "\n",
    "graph_object1 = mt.Graph(table_number1, modulo_number1)\n",
    "graph_object1.sparse_matrix()\n",
    "graph_object1.print_graph()"
   ]
  },
  {
   "cell_type": "code",
   "execution_count": 5,
   "metadata": {},
   "outputs": [
    {
     "output_type": "stream",
     "name": "stdout",
     "text": [
      "sparse_matrix'time0.0010001659393310547\n",
      "graph_vis'time : 0.012997865676879883\n",
      "graph_vis'time : 0.0749962329864502\n"
     ]
    },
    {
     "output_type": "execute_result",
     "data": {
      "text/plain": [
       "<multiplication_table.process_vis.interface.Interface_gestion at 0x20f95270a90>"
      ]
     },
     "metadata": {},
     "execution_count": 5
    }
   ],
   "source": [
    "mt.Interface_gestion(speed=200, state_button=False, background='white',\n",
    "                     state_circle=False,\n",
    "                     color_graph=['purple', \"blue\", \"orange\", \"brown\"],\n",
    "                     background_circle=\"\", outline_circle='black',\n",
    "                     color_name=\"red\", edges_width=1)"
   ]
  },
  {
   "cell_type": "code",
   "execution_count": 6,
   "metadata": {},
   "outputs": [
    {
     "output_type": "stream",
     "name": "stdout",
     "text": [
      "sparse_matrix'time0.0\n",
      "sparse_matrix'time0.0009982585906982422\n",
      "Fixe representation 'time : 1.9599993228912354\n"
     ]
    }
   ],
   "source": [
    "start = time.time()\n",
    "root = Tk()\n",
    "canvas = Canvas(root, width=750, height=750, bg='white')\n",
    "canvas.pack(side=\"left\", fill=\"both\", expand=True)\n",
    "mt.circle(canvas=canvas, center=(360, 360), radius=300,\n",
    "          state_circle=True, background_circle=\"\", outline_circle=\"black\")\n",
    "mt.dot(canvas=canvas, graph=mt.Graph(2, 10), radius=300, center=360,\n",
    "       color_graph=['black', 'purple', \"blue\", \"red\", \"cyan\"],\n",
    "       color_name=\"red\")\n",
    "mt.all_edges(canvas=canvas, graph=mt.Graph(2, 10), radius=300, center=360,\n",
    "             color_graph=['black', 'purple', \"blue\", \"red\", \"cyan\"],\n",
    "             edges_width=2)\n",
    "root.mainloop()\n",
    "end = time.time()\n",
    "print(\"Fixe representation 'time : \" + str(end-start))\n"
   ]
  }
 ]
}