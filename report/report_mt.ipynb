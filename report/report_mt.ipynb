{
 "metadata": {
  "language_info": {
   "codemirror_mode": {
    "name": "ipython",
    "version": 3
   },
   "file_extension": ".py",
   "mimetype": "text/x-python",
   "name": "python",
   "nbconvert_exporter": "python",
   "pygments_lexer": "ipython3",
   "version": "3.8.5"
  },
  "orig_nbformat": 2,
  "kernelspec": {
   "name": "python385jvsc74a57bd09cd02cb723a407c5e46a16041266c2d87cf78bb1a418be4d23c6309c7cdf5fae",
   "display_name": "Python 3.8.5 64-bit (conda)"
  }
 },
 "nbformat": 4,
 "nbformat_minor": 2,
 "cells": [
  {
   "cell_type": "code",
   "execution_count": 1,
   "metadata": {},
   "outputs": [
    {
     "output_type": "stream",
     "name": "stdout",
     "text": [
      "Requirement already satisfied: multiplication_table in c:\\users\\assia\\anaconda3\\lib\\site-packages (0.0.1)\n",
      "Note: you may need to restart the kernel to use updated packages.\n",
      "sparse_matrix'time0.0\n",
      "sparse_matrix'time0.0\n",
      "1 <---> 2.0\n",
      "2 <---> 4.0\n",
      "3 <---> 6.0\n",
      "4 <---> 8.0\n",
      "5 <---> 0.0\n",
      "6 <---> 2.0\n",
      "7 <---> 4.0\n",
      "8 <---> 6.0\n",
      "9 <---> 8.0\n"
     ]
    }
   ],
   "source": [
    "%pip install multiplication_table\n",
    "import multiplication_table as mt\n",
    "import time\n",
    "from tkinter import Tk, Canvas\n",
    "\n",
    "table_number1=2\n",
    "modulo_number1 = 10\n",
    "\n",
    "graph_object1 = mt.Graph(table_number1, modulo_number1)\n",
    "graph_object1.sparse_matrix()\n",
    "graph_object1.print_graph()"
   ]
  },
  {
   "cell_type": "code",
   "execution_count": 2,
   "metadata": {},
   "outputs": [
    {
     "output_type": "stream",
     "name": "stdout",
     "text": [
      "sparse_matrix'time0.0\n",
      "sparse_matrix'time0.0\n",
      "Fixe representation 'time : 5.961239576339722\n"
     ]
    }
   ],
   "source": [
    "start = time.time()\n",
    "root = Tk()\n",
    "canvas = Canvas(root, width=750, height=750, bg='white')\n",
    "canvas.pack(side=\"left\", fill=\"both\", expand=True)\n",
    "mt.circle(canvas=canvas, center=(360, 360), radius=300,\n",
    "          state_circle=True, background_circle=\"\", outline_circle=\"black\")\n",
    "mt.dot(canvas=canvas, graph=mt.Graph(2, 10), radius=300, center=360,\n",
    "       color_graph=['black', 'purple', \"blue\", \"red\", \"cyan\"],\n",
    "       color_name=\"red\")\n",
    "mt.all_edges(canvas=canvas, graph=mt.Graph(2, 10), radius=300, center=360,\n",
    "             color_graph=['black', 'purple', \"blue\", \"red\", \"cyan\"],\n",
    "             edges_width=2)\n",
    "root.mainloop()\n",
    "end = time.time()\n",
    "print(\"Fixe representation 'time : \" + str(end-start))"
   ]
  },
  {
   "cell_type": "code",
   "execution_count": 3,
   "metadata": {},
   "outputs": [
    {
     "output_type": "stream",
     "name": "stdout",
     "text": [
      "sparse_matrix'time0.0009965896606445312\ngraph_vis'time : 0.0029931068420410156\ngraph_vis'time : 0.009971141815185547\n"
     ]
    },
    {
     "output_type": "execute_result",
     "data": {
      "text/plain": [
       "<multiplication_table.process_vis.interface.Interface_gestion at 0x20199d7ff40>"
      ]
     },
     "metadata": {},
     "execution_count": 3
    }
   ],
   "source": [
    "mt.Interface_gestion(speed=200, state_button=False, background='white',\n",
    "                     state_circle=False,\n",
    "                     color_graph=['purple', \"blue\", \"orange\", \"brown\"],\n",
    "                     background_circle=\"\", outline_circle='black',\n",
    "                     color_name=\"red\", edges_width=1)"
   ]
  },
  {
   "cell_type": "code",
   "execution_count": null,
   "metadata": {},
   "outputs": [],
   "source": []
  }
 ]
}